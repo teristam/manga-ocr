{
 "cells": [
  {
   "cell_type": "code",
   "execution_count": 6,
   "metadata": {},
   "outputs": [],
   "source": [
    "from langdetect import detect\n",
    "import pandas as pd\n",
    "import re\n",
    "from glob import glob\n",
    "from tqdm.auto import tqdm"
   ]
  },
  {
   "cell_type": "code",
   "execution_count": 9,
   "metadata": {},
   "outputs": [],
   "source": [
    "\n",
    "\n",
    "def detect_language(text):\n",
    "    try:\n",
    "        return detect(text)\n",
    "    except:\n",
    "        return None\n",
    "\n",
    "def parse_text(text):\n",
    "    pattern = r\"<(.*?)>\\n(.*?)(?=\\n<|$)\"\n",
    "\n",
    "    # Find all matches\n",
    "    matches = re.findall(pattern, text, re.DOTALL)\n",
    "\n",
    "    # Process matches\n",
    "    processed_matches = []\n",
    "    for match in matches:\n",
    "        character = match[0]\n",
    "        lines = match[1].strip().split(\"\\n\")\n",
    "        japanese_text = []\n",
    "        english_text = []\n",
    "\n",
    "        for line in lines:\n",
    "            if detect_language(line) == 'ja':\n",
    "                japanese_text.append(line)\n",
    "            else:\n",
    "                english_text.append(line)\n",
    "\n",
    "        processed_matches.append((character, \" \".join(japanese_text), \" \".join(english_text)))\n",
    "\n",
    "    # Convert to DataFrame\n",
    "    df = pd.DataFrame(processed_matches, columns=['Character', 'Japanese', 'English'])\n",
    "    return df\n",
    "\n"
   ]
  },
  {
   "cell_type": "code",
   "execution_count": 12,
   "metadata": {},
   "outputs": [
    {
     "name": "stderr",
     "output_type": "stream",
     "text": [
      "  0%|          | 0/422 [00:00<?, ?it/s]"
     ]
    },
    {
     "name": "stderr",
     "output_type": "stream",
     "text": [
      "100%|██████████| 422/422 [03:03<00:00,  2.30it/s]\n"
     ]
    }
   ],
   "source": [
    "# load the game script file and convert them to dataframes\n",
    "df_list = []\n",
    "for fn in tqdm(glob('game_scripts/dgs1/*.txt')):\n",
    "    with open(fn) as f:\n",
    "        text = f.read()\n",
    "        df_list.append(parse_text(text))\n",
    "\n",
    "df_scripts = pd.concat(df_list)\n",
    "        "
   ]
  },
  {
   "cell_type": "code",
   "execution_count": 15,
   "metadata": {},
   "outputs": [],
   "source": [
    "df_scripts = df_scripts.reset_index()\n",
    "df_scripts.to_excel('game_scripts/dgs1.xlsx')"
   ]
  }
 ],
 "metadata": {
  "kernelspec": {
   "display_name": "game2text",
   "language": "python",
   "name": "python3"
  },
  "language_info": {
   "codemirror_mode": {
    "name": "ipython",
    "version": 3
   },
   "file_extension": ".py",
   "mimetype": "text/x-python",
   "name": "python",
   "nbconvert_exporter": "python",
   "pygments_lexer": "ipython3",
   "version": "3.10.13"
  }
 },
 "nbformat": 4,
 "nbformat_minor": 2
}
