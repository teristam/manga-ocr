{
 "cells": [
  {
   "cell_type": "code",
   "execution_count": 18,
   "id": "74296804-e8c9-45a8-bc1c-a7bb1697a8cc",
   "metadata": {
    "execution": {
     "iopub.execute_input": "2023-12-03T15:20:45.316723Z",
     "iopub.status.busy": "2023-12-03T15:20:45.316723Z",
     "iopub.status.idle": "2023-12-03T15:20:45.332732Z",
     "shell.execute_reply": "2023-12-03T15:20:45.332732Z",
     "shell.execute_reply.started": "2023-12-03T15:20:45.316723Z"
    }
   },
   "outputs": [
    {
     "name": "stderr",
     "output_type": "stream",
     "text": [
      "Traceback (most recent call last):\n",
      "  File \"C:\\Users\\teristam\\Anaconda3\\envs\\game2text\\lib\\site-packages\\gradio\\queueing.py\", line 456, in call_prediction\n",
      "    output = await route_utils.call_process_api(\n",
      "  File \"C:\\Users\\teristam\\Anaconda3\\envs\\game2text\\lib\\site-packages\\gradio\\route_utils.py\", line 232, in call_process_api\n",
      "    output = await app.get_blocks().process_api(\n",
      "  File \"C:\\Users\\teristam\\Anaconda3\\envs\\game2text\\lib\\site-packages\\gradio\\blocks.py\", line 1522, in process_api\n",
      "    result = await self.call_function(\n",
      "  File \"C:\\Users\\teristam\\Anaconda3\\envs\\game2text\\lib\\site-packages\\gradio\\blocks.py\", line 1144, in call_function\n",
      "    prediction = await anyio.to_thread.run_sync(\n",
      "  File \"C:\\Users\\teristam\\Anaconda3\\envs\\game2text\\lib\\site-packages\\anyio\\to_thread.py\", line 33, in run_sync\n",
      "    return await get_asynclib().run_sync_in_worker_thread(\n",
      "  File \"C:\\Users\\teristam\\Anaconda3\\envs\\game2text\\lib\\site-packages\\anyio\\_backends\\_asyncio.py\", line 877, in run_sync_in_worker_thread\n",
      "    return await future\n",
      "  File \"C:\\Users\\teristam\\Anaconda3\\envs\\game2text\\lib\\site-packages\\anyio\\_backends\\_asyncio.py\", line 807, in run\n",
      "    result = context.run(func, *args)\n",
      "  File \"C:\\Users\\teristam\\Anaconda3\\envs\\game2text\\lib\\site-packages\\gradio\\utils.py\", line 674, in wrapper\n",
      "    response = f(*args, **kwargs)\n",
      "  File \"C:\\Users\\teristam\\AppData\\Local\\Temp\\ipykernel_1320\\1886848289.py\", line 9, in sepia\n",
      "    sepia_img /= sepia_imag.max()\n",
      "NameError: name 'sepia_imag' is not defined. Did you mean: 'sepia_img'?\n",
      "Traceback (most recent call last):\n",
      "  File \"C:\\Users\\teristam\\Anaconda3\\envs\\game2text\\lib\\site-packages\\gradio\\queueing.py\", line 456, in call_prediction\n",
      "    output = await route_utils.call_process_api(\n",
      "  File \"C:\\Users\\teristam\\Anaconda3\\envs\\game2text\\lib\\site-packages\\gradio\\route_utils.py\", line 232, in call_process_api\n",
      "    output = await app.get_blocks().process_api(\n",
      "  File \"C:\\Users\\teristam\\Anaconda3\\envs\\game2text\\lib\\site-packages\\gradio\\blocks.py\", line 1522, in process_api\n",
      "    result = await self.call_function(\n",
      "  File \"C:\\Users\\teristam\\Anaconda3\\envs\\game2text\\lib\\site-packages\\gradio\\blocks.py\", line 1144, in call_function\n",
      "    prediction = await anyio.to_thread.run_sync(\n",
      "  File \"C:\\Users\\teristam\\Anaconda3\\envs\\game2text\\lib\\site-packages\\anyio\\to_thread.py\", line 33, in run_sync\n",
      "    return await get_asynclib().run_sync_in_worker_thread(\n",
      "  File \"C:\\Users\\teristam\\Anaconda3\\envs\\game2text\\lib\\site-packages\\anyio\\_backends\\_asyncio.py\", line 877, in run_sync_in_worker_thread\n",
      "    return await future\n",
      "  File \"C:\\Users\\teristam\\Anaconda3\\envs\\game2text\\lib\\site-packages\\anyio\\_backends\\_asyncio.py\", line 807, in run\n",
      "    result = context.run(func, *args)\n",
      "  File \"C:\\Users\\teristam\\Anaconda3\\envs\\game2text\\lib\\site-packages\\gradio\\utils.py\", line 674, in wrapper\n",
      "    response = f(*args, **kwargs)\n",
      "  File \"C:\\Users\\teristam\\AppData\\Local\\Temp\\ipykernel_1320\\1886848289.py\", line 9, in sepia\n",
      "    sepia_img /= sepia_imag.max()\n",
      "NameError: name 'sepia_imag' is not defined. Did you mean: 'sepia_img'?\n",
      "\n",
      "The above exception was the direct cause of the following exception:\n",
      "\n",
      "Traceback (most recent call last):\n",
      "  File \"C:\\Users\\teristam\\Anaconda3\\envs\\game2text\\lib\\site-packages\\gradio\\queueing.py\", line 501, in process_events\n",
      "    response = await self.call_prediction(awake_events, batch)\n",
      "  File \"C:\\Users\\teristam\\Anaconda3\\envs\\game2text\\lib\\site-packages\\gradio\\queueing.py\", line 465, in call_prediction\n",
      "    raise Exception(str(error) if show_error else None) from error\n",
      "Exception: None\n"
     ]
    }
   ],
   "source": [
    "import gradio as gr\n",
    "import numpy as np"
   ]
  },
  {
   "cell_type": "code",
   "execution_count": 13,
   "id": "91b6982c-a507-4d55-8a01-54cbe6eb99fc",
   "metadata": {
    "execution": {
     "iopub.execute_input": "2023-12-03T14:17:47.641150Z",
     "iopub.status.busy": "2023-12-03T14:17:47.641150Z",
     "iopub.status.idle": "2023-12-03T14:17:47.766996Z",
     "shell.execute_reply": "2023-12-03T14:17:47.766492Z",
     "shell.execute_reply.started": "2023-12-03T14:17:47.641150Z"
    }
   },
   "outputs": [
    {
     "name": "stdout",
     "output_type": "stream",
     "text": [
      "Running on local URL:  http://127.0.0.1:7866\n",
      "\n",
      "To create a public link, set `share=True` in `launch()`.\n"
     ]
    },
    {
     "data": {
      "text/html": [
       "<div><iframe src=\"http://127.0.0.1:7866/\" width=\"100%\" height=\"500\" allow=\"autoplay; camera; microphone; clipboard-read; clipboard-write;\" frameborder=\"0\" allowfullscreen></iframe></div>"
      ],
      "text/plain": [
       "<IPython.core.display.HTML object>"
      ]
     },
     "metadata": {},
     "output_type": "display_data"
    }
   ],
   "source": [
    "def greet(name, is_morning, temperature):\n",
    "    return 'hello '+ is_morning + temperature\n",
    "\n",
    "demo = gr.Interface(fn=greet, \n",
    "                    inputs= [\n",
    "                        gr.Textbox(lines=2, placeholder='Name here..'),\n",
    "                         'checkbox',\n",
    "                         gr.Slider(0,100)],\n",
    "                    outputs='text')\n",
    "\n",
    "if __name__ == '__main__':\n",
    "    demo.launch(show_api=False)"
   ]
  },
  {
   "cell_type": "code",
   "execution_count": 20,
   "id": "9fbd72e3-b888-4dee-ba5f-f257b9405b88",
   "metadata": {
    "execution": {
     "iopub.execute_input": "2023-12-03T15:21:18.522753Z",
     "iopub.status.busy": "2023-12-03T15:21:18.522753Z",
     "iopub.status.idle": "2023-12-03T15:21:18.752566Z",
     "shell.execute_reply": "2023-12-03T15:21:18.752566Z",
     "shell.execute_reply.started": "2023-12-03T15:21:18.522753Z"
    }
   },
   "outputs": [
    {
     "name": "stdout",
     "output_type": "stream",
     "text": [
      "Running on local URL:  http://127.0.0.1:7870\n",
      "\n",
      "To create a public link, set `share=True` in `launch()`.\n"
     ]
    },
    {
     "data": {
      "text/html": [
       "<div><iframe src=\"http://127.0.0.1:7870/\" width=\"100%\" height=\"500\" allow=\"autoplay; camera; microphone; clipboard-read; clipboard-write;\" frameborder=\"0\" allowfullscreen></iframe></div>"
      ],
      "text/plain": [
       "<IPython.core.display.HTML object>"
      ]
     },
     "metadata": {},
     "output_type": "display_data"
    },
    {
     "data": {
      "text/plain": []
     },
     "execution_count": 20,
     "metadata": {},
     "output_type": "execute_result"
    }
   ],
   "source": [
    "def sepia(input_img):\n",
    "    sepia_filter = np.array([\n",
    "        [0.393, 0.769, 0.189], \n",
    "        [0.349, 0.686, 0.168], \n",
    "        [0.272, 0.534, 0.131]\n",
    "    ])\n",
    "\n",
    "    sepia_img = input_img.dot(sepia_filter.T)\n",
    "    sepia_img /= sepia_img.max()\n",
    "    return sepia_img\n",
    "\n",
    "demo = gr.Interface(sepia, gr.Image(), 'image')\n",
    "\n",
    "demo.launch()"
   ]
  },
  {
   "cell_type": "code",
   "execution_count": 21,
   "id": "1de81f4f-c64e-4f58-a9db-50e210bf2af7",
   "metadata": {
    "execution": {
     "iopub.execute_input": "2023-12-03T15:24:21.815810Z",
     "iopub.status.busy": "2023-12-03T15:24:21.815810Z",
     "iopub.status.idle": "2023-12-03T15:24:21.960553Z",
     "shell.execute_reply": "2023-12-03T15:24:21.959547Z",
     "shell.execute_reply.started": "2023-12-03T15:24:21.815810Z"
    }
   },
   "outputs": [
    {
     "name": "stdout",
     "output_type": "stream",
     "text": [
      "Running on local URL:  http://127.0.0.1:7871\n",
      "\n",
      "To create a public link, set `share=True` in `launch()`.\n"
     ]
    },
    {
     "data": {
      "text/html": [
       "<div><iframe src=\"http://127.0.0.1:7871/\" width=\"100%\" height=\"500\" allow=\"autoplay; camera; microphone; clipboard-read; clipboard-write;\" frameborder=\"0\" allowfullscreen></iframe></div>"
      ],
      "text/plain": [
       "<IPython.core.display.HTML object>"
      ]
     },
     "metadata": {},
     "output_type": "display_data"
    },
    {
     "data": {
      "text/plain": []
     },
     "execution_count": 21,
     "metadata": {},
     "output_type": "execute_result"
    }
   ],
   "source": [
    "import random\n",
    "\n",
    "def random_response(message, history):\n",
    "    return random.choice(['Yes','No'])\n",
    "\n",
    "demo =  gr.ChatInterface(random_response)\n",
    "\n",
    "demo.launch()"
   ]
  },
  {
   "cell_type": "markdown",
   "id": "ba87a3ac-dcfa-4074-9eb2-82bf2496cbcb",
   "metadata": {},
   "source": [
    "## Blocks"
   ]
  },
  {
   "cell_type": "code",
   "execution_count": 30,
   "id": "15ad088f-7d66-4b54-8693-d38431737b81",
   "metadata": {
    "execution": {
     "iopub.execute_input": "2023-12-03T15:36:04.979429Z",
     "iopub.status.busy": "2023-12-03T15:36:04.979429Z",
     "iopub.status.idle": "2023-12-03T15:36:05.340356Z",
     "shell.execute_reply": "2023-12-03T15:36:05.339356Z",
     "shell.execute_reply.started": "2023-12-03T15:36:04.979429Z"
    }
   },
   "outputs": [
    {
     "name": "stdout",
     "output_type": "stream",
     "text": [
      "Running on local URL:  http://127.0.0.1:7877\n",
      "\n",
      "To create a public link, set `share=True` in `launch()`.\n"
     ]
    },
    {
     "data": {
      "text/html": [
       "<div><iframe src=\"http://127.0.0.1:7877/\" width=\"100%\" height=\"500\" allow=\"autoplay; camera; microphone; clipboard-read; clipboard-write;\" frameborder=\"0\" allowfullscreen></iframe></div>"
      ],
      "text/plain": [
       "<IPython.core.display.HTML object>"
      ]
     },
     "metadata": {},
     "output_type": "display_data"
    },
    {
     "data": {
      "text/plain": []
     },
     "execution_count": 30,
     "metadata": {},
     "output_type": "execute_result"
    }
   ],
   "source": [
    "def greet(name):\n",
    "    return 'hello ' + name + \"!\"\n",
    "\n",
    "def flip_text(x):\n",
    "    return x[::-1]\n",
    "    \n",
    "def flip_image(x):\n",
    "    return np.fliplr(x)\n",
    "\n",
    "with gr.Blocks(title='This is my title') as demo:\n",
    "    gr.Markdown(\"Some text\")\n",
    "    with gr.Tab(\"Flip ext\"):\n",
    "        name = gr.Textbox(label='Name')\n",
    "        output = gr.Textbox(label=\"Output Box\")\n",
    "        greet_btn = gr.Button(\"Greet\")\n",
    "        greet_btn.click(fn=greet, inputs=name, outputs=output, api_name=\"greet\")\n",
    "\n",
    "    with gr.Tab(\"Flip image\"):\n",
    "        with gr.Row():\n",
    "            image_input = gr.Image()\n",
    "            image_output = gr.Image()\n",
    "            \n",
    "    with gr.Accordion(\"Open for more!\"):\n",
    "        gr.Markdown(\"雷を食う化け物の話\")\n",
    "    \n",
    "demo.launch()"
   ]
  },
  {
   "cell_type": "code",
   "execution_count": 35,
   "id": "48d89a41-abf3-4c59-821c-d53bd1b57afb",
   "metadata": {
    "execution": {
     "iopub.execute_input": "2023-12-03T15:42:51.000608Z",
     "iopub.status.busy": "2023-12-03T15:42:51.000608Z",
     "iopub.status.idle": "2023-12-03T15:42:51.210805Z",
     "shell.execute_reply": "2023-12-03T15:42:51.210805Z",
     "shell.execute_reply.started": "2023-12-03T15:42:51.000608Z"
    }
   },
   "outputs": [
    {
     "name": "stdout",
     "output_type": "stream",
     "text": [
      "Running on local URL:  http://127.0.0.1:7881\n",
      "\n",
      "To create a public link, set `share=True` in `launch()`.\n"
     ]
    },
    {
     "data": {
      "text/html": [
       "<div><iframe src=\"http://127.0.0.1:7881/\" width=\"100%\" height=\"500\" allow=\"autoplay; camera; microphone; clipboard-read; clipboard-write;\" frameborder=\"0\" allowfullscreen></iframe></div>"
      ],
      "text/plain": [
       "<IPython.core.display.HTML object>"
      ]
     },
     "metadata": {},
     "output_type": "display_data"
    },
    {
     "data": {
      "text/plain": []
     },
     "execution_count": 35,
     "metadata": {},
     "output_type": "execute_result"
    }
   ],
   "source": [
    "import time\n",
    "\n",
    "def my_generator(x):\n",
    "    for i in range(x):\n",
    "        yield i\n",
    "\n",
    "def fake_diffision(steps):\n",
    "    for _ in range(steps):\n",
    "        time.sleep(1)\n",
    "        image = np.random.random((600,600,3))\n",
    "        yield image\n",
    "\n",
    "    image = np.ones((1000,1000,3), np.uint8)\n",
    "    image[:] = [255, 124, 0]\n",
    "    yield image\n",
    "\n",
    "demo = gr.Interface(fake_diffision, inputs = gr.Slider(1,10,3), outputs='image')\n",
    "demo.queue()\n",
    "demo.launch()"
   ]
  },
  {
   "cell_type": "markdown",
   "id": "71ac1f26-30e2-4663-bdec-953dc93666a4",
   "metadata": {},
   "source": [
    "## Reactive"
   ]
  },
  {
   "cell_type": "code",
   "execution_count": 38,
   "id": "7fb9e213-9af2-4f25-a77c-4a57241c82fc",
   "metadata": {
    "execution": {
     "iopub.execute_input": "2023-12-03T15:51:39.381656Z",
     "iopub.status.busy": "2023-12-03T15:51:39.381656Z",
     "iopub.status.idle": "2023-12-03T15:51:39.538616Z",
     "shell.execute_reply": "2023-12-03T15:51:39.536617Z",
     "shell.execute_reply.started": "2023-12-03T15:51:39.381656Z"
    }
   },
   "outputs": [
    {
     "name": "stdout",
     "output_type": "stream",
     "text": [
      "Running on local URL:  http://127.0.0.1:7882\n",
      "\n",
      "To create a public link, set `share=True` in `launch()`.\n"
     ]
    },
    {
     "data": {
      "text/html": [
       "<div><iframe src=\"http://127.0.0.1:7882/\" width=\"100%\" height=\"500\" allow=\"autoplay; camera; microphone; clipboard-read; clipboard-write;\" frameborder=\"0\" allowfullscreen></iframe></div>"
      ],
      "text/plain": [
       "<IPython.core.display.HTML object>"
      ]
     },
     "metadata": {},
     "output_type": "display_data"
    },
    {
     "data": {
      "text/plain": []
     },
     "execution_count": 38,
     "metadata": {},
     "output_type": "execute_result"
    }
   ],
   "source": [
    "def calculator(num1, operation, num2):\n",
    "    if operation == \"add\":\n",
    "        return num1 + num2\n",
    "    elif operation == \"subtract\":\n",
    "        return num1 - num2\n",
    "    elif operation == \"multiply\":\n",
    "        return num1 * num2\n",
    "    elif operation == \"divide\":\n",
    "        return num1 / num2\n",
    "\n",
    "demo = gr.Interface(\n",
    "    calculator,\n",
    "    ['number',\n",
    "     gr.Radio(['add', 'sub','multiply','divide']),\n",
    "     'number'],\n",
    "    'number',\n",
    "     live=True)\n",
    "demo.launch()"
   ]
  },
  {
   "cell_type": "markdown",
   "id": "aab8284e-3a3c-4385-892a-cfd10a4d84b0",
   "metadata": {},
   "source": [
    "## Dataframe"
   ]
  },
  {
   "cell_type": "code",
   "execution_count": 43,
   "id": "1a10e47b-2b0f-41a4-b972-c1df3fabad38",
   "metadata": {
    "execution": {
     "iopub.execute_input": "2023-12-03T15:58:19.530221Z",
     "iopub.status.busy": "2023-12-03T15:58:19.529718Z",
     "iopub.status.idle": "2023-12-03T15:58:19.691060Z",
     "shell.execute_reply": "2023-12-03T15:58:19.690159Z",
     "shell.execute_reply.started": "2023-12-03T15:58:19.529718Z"
    }
   },
   "outputs": [
    {
     "name": "stdout",
     "output_type": "stream",
     "text": [
      "Running on local URL:  http://127.0.0.1:7885\n",
      "\n",
      "To create a public link, set `share=True` in `launch()`.\n"
     ]
    },
    {
     "data": {
      "text/html": [
       "<div><iframe src=\"http://127.0.0.1:7885/\" width=\"100%\" height=\"500\" allow=\"autoplay; camera; microphone; clipboard-read; clipboard-write;\" frameborder=\"0\" allowfullscreen></iframe></div>"
      ],
      "text/plain": [
       "<IPython.core.display.HTML object>"
      ]
     },
     "metadata": {},
     "output_type": "display_data"
    },
    {
     "data": {
      "text/plain": []
     },
     "execution_count": 43,
     "metadata": {},
     "output_type": "execute_result"
    }
   ],
   "source": [
    "import pandas as pd \n",
    "import gradio as gr\n",
    "\n",
    "# Creating a sample dataframe\n",
    "def get_dataframe():\n",
    "    return pd.DataFrame({\n",
    "        \"A\" : [14, 4, 5, 4, np.random.rand(1)], \n",
    "        \"B\" : [5, 2, 54, 3, 2], \n",
    "        \"C\" : [20, 20, 7, 3, 8], \n",
    "        \"D\" : [14, 3, 6, 2, 6], \n",
    "        \"E\" : [23, 45, 64, 32, 23]\n",
    "    }) \n",
    "\n",
    "with gr.Blocks() as demo:\n",
    "    gr.DataFrame(get_dataframe,every=1)\n",
    "\n",
    "demo.launch()"
   ]
  },
  {
   "cell_type": "code",
   "execution_count": null,
   "id": "846503d8-b5f2-4772-83ac-88f5afa9ed17",
   "metadata": {},
   "outputs": [],
   "source": []
  }
 ],
 "metadata": {
  "kernelspec": {
   "display_name": "Python 3 (ipykernel)",
   "language": "python",
   "name": "python3"
  },
  "language_info": {
   "codemirror_mode": {
    "name": "ipython",
    "version": 3
   },
   "file_extension": ".py",
   "mimetype": "text/x-python",
   "name": "python",
   "nbconvert_exporter": "python",
   "pygments_lexer": "ipython3",
   "version": "3.10.13"
  }
 },
 "nbformat": 4,
 "nbformat_minor": 5
}
